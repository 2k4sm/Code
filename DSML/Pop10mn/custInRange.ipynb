{
 "cells": [
  {
   "cell_type": "code",
   "execution_count": 7,
   "metadata": {},
   "outputs": [],
   "source": [
    "import pandas as pd\n",
    "\n",
    "data = {\n",
    "    'name': ['Mark', 'Ramilla', 'Deb', 'Laxman'],\n",
    "    'profession': ['dev', 'mle', 'mle', 'hr'],\n",
    "    'gender': ['male', 'female', 'male', 'male'],\n",
    "    'age': [21, 20, 30, 27],\n",
    "    'review': ['need improvement', 'Can be improved', 'Scope of improvement', 'Great'],\n",
    "    'rating': [10, 5, 7, 9]\n",
    "}\n",
    "\n",
    "df = pd.DataFrame(data)"
   ]
  },
  {
   "cell_type": "code",
   "execution_count": 8,
   "metadata": {},
   "outputs": [
    {
     "data": {
      "text/plain": [
       "2       Deb\n",
       "3    Laxman\n",
       "Name: name, dtype: object"
      ]
     },
     "execution_count": 8,
     "metadata": {},
     "output_type": "execute_result"
    }
   ],
   "source": [
    "df_new = df[df[\"gender\"] == \"male\"]\n",
    "df_new = df_new[(df_new[\"age\"] >= 23) & (df_new[\"age\"] <= 30)]\n",
    "df_new[\"name\"]"
   ]
  },
  {
   "cell_type": "code",
   "execution_count": null,
   "metadata": {},
   "outputs": [],
   "source": []
  }
 ],
 "metadata": {
  "kernelspec": {
   "display_name": ".venv",
   "language": "python",
   "name": "python3"
  },
  "language_info": {
   "codemirror_mode": {
    "name": "ipython",
    "version": 3
   },
   "file_extension": ".py",
   "mimetype": "text/x-python",
   "name": "python",
   "nbconvert_exporter": "python",
   "pygments_lexer": "ipython3",
   "version": "3.12.2"
  }
 },
 "nbformat": 4,
 "nbformat_minor": 2
}
